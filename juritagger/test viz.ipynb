{
 "cells": [
  {
   "cell_type": "code",
   "execution_count": 1,
   "metadata": {},
   "outputs": [],
   "source": [
    "from juritagger import JuriMatcher\n",
    "%load_ext autoreload\n",
    "%autoreload 2\n",
    "jm = JuriMatcher([\"./dicos/merged.txt\", \"./dicos/cluster_merged_classif.json\"], \"fr_core_news_md\")"
   ]
  },
  {
   "cell_type": "code",
   "execution_count": 2,
   "metadata": {},
   "outputs": [],
   "source": [
    "fiche_text = \"\"\"Fermeture de l'entreprise pour congés: comment le salarié est-il indemnisé?\n",
    "L'indemnisation du salarié dépend du nombre de jours de fermeture\n",
    "de l'entreprise et du nombre de jours de congés acquis par le salarié.\n",
    "Si le salarié possède suffisamment de jours de congés par rapport au\n",
    "nombre de jours de fermeture de congés, il perçoit l'indemnité de congés payés dans les conditions habituelles. \n",
    "Si le salarié n'a pas acquis suffisamment de jours de congés payés pour être indemnisé\n",
    "durant l'intégralité de la fermeture de l'entreprise, Pôle emploi peut verser, sous conditions,\n",
    "une aide financière pour congés non payés. Cette aide pour congés non payés est versée au salarié qui percevait,\n",
    "avant sa reprise d'emploi, l'allocation d'aide au retour à l'emploi (ARE)  ou l'allocation de solidarité spécifique\n",
    "(ASS). Si c'était le cas, le salarié doit formuler une demande d'aide auprès de l'agence Pôle emploi\n",
    "dont il dépendait en tant que demandeur d'emploi. Pôle emploi pole_emploi Pôle emploi \n",
    "Le montant de l'aide est calculé par Pôle emploi qui tient compte du nombre de jours de fermeture\n",
    "de l'entreprise; net des droits à congés payés acquis par le salarié au titre de son nouvel emploi.\n",
    " À défaut d'avoir droit à l'aide pour congés non payés, le salarié peut demander à son employeur de bénéficier \n",
    "de congés payés par anticipation, mais l'employeur n'est pas obligé d'accepter (sauf accord collectif ou\n",
    "usages contraires). Le salarié peut également demander à bénéficier d'un congé sans solde ou d'une indemnité d'activité partielle,\n",
    "en cas d'intempérie à caractère exceptionnel notamment.\"\"\"\n",
    "\n",
    "matches, doc = jm.tag_doc(fiche_text, mode = \"class\")"
   ]
  },
  {
   "cell_type": "code",
   "execution_count": 3,
   "metadata": {
    "collapsed": true
   },
   "outputs": [],
   "source": [
    "class MyDoc:\n",
    "    def __init__(self, doc):\n",
    "        self.doc = doc\n",
    "        \n",
    "    def __getitem__(self, item):\n",
    "        return self.doc[item]\n",
    "    \n",
    "    def _split(self, s=None):\n",
    "        return self.doc.text.split(s)\n",
    "    \n",
    "    def __add__(self, o):\n",
    "        return self.doc.text + o\n",
    "    \n",
    "    def __radd__(self, o):\n",
    "        return o + self.doc.text"
   ]
  },
  {
   "cell_type": "code",
   "execution_count": 4,
   "metadata": {
    "collapsed": true
   },
   "outputs": [],
   "source": [
    "doc2 = MyDoc(doc)"
   ]
  },
  {
   "cell_type": "code",
   "execution_count": 5,
   "metadata": {},
   "outputs": [],
   "source": [
    "def check_overlap(i, entity_range):\n",
    "    v = []\n",
    "    entity = entity_range[i]\n",
    "    for j, a in enumerate(entity_range):\n",
    "        if j != i and entity.intersection(a) != set():\n",
    "            v.append(j)\n",
    "    return v\n",
    "\n",
    "def keep_longer_match(matches):\n",
    "    entity_range = []\n",
    "    for label, start, end in matches:\n",
    "        entity_range.append(set(range(start, end)))\n",
    "\n",
    "    new_matches = []\n",
    "    for i in range(len(entity_range)):\n",
    "        overlaps = check_overlap(i, entity_range)\n",
    "        longer = [len(entity_range[over]) > len(entity_range[i]) for over in overlaps]\n",
    "        equal = [len(entity_range[over]) == len(entity_range[i]) for over in overlaps]\n",
    "        if any(longer):\n",
    "            continue\n",
    "            \n",
    "        if any(equal):\n",
    "            if matches[i] not in new_matches:\n",
    "                new_matches.append(matches[i])\n",
    "        \n",
    "        else:\n",
    "            new_matches.append(matches[i])\n",
    "    return new_matches"
   ]
  },
  {
   "cell_type": "code",
   "execution_count": 6,
   "metadata": {
    "collapsed": true
   },
   "outputs": [],
   "source": [
    "matches = keep_longer_match(matches)"
   ]
  },
  {
   "cell_type": "markdown",
   "metadata": {},
   "source": [
    "from display_entities import COLOR_LIST\n",
    "options = {\n",
    "    \"ents\": list(jm.entity_types),\n",
    "    \"colors\" : {entity:COLOR_LIST[i] for i, entity in enumerate(jm.entity_types)}\n",
    "}"
   ]
  },
  {
   "cell_type": "code",
   "execution_count": null,
   "metadata": {
    "collapsed": true
   },
   "outputs": [],
   "source": [
    "from display_entities import COLOR_LIST\n",
    "options = {\n",
    "    \"ents\": list(jm.entity_types),\n",
    "    \"colors\" : {entity:COLOR_LIST[i] for i, entity in enumerate(jm.entity_types)}\n",
    "}"
   ]
  },
  {
   "cell_type": "code",
   "execution_count": null,
   "metadata": {},
   "outputs": [
    {
     "name": "stdout",
     "output_type": "stream",
     "text": [
      "\n",
      "\u001b[93m    Serving on port 5000...\u001b[0m\n",
      "    Using the 'ent' visualizer\n",
      "\n"
     ]
    },
    {
     "name": "stderr",
     "output_type": "stream",
     "text": [
      "127.0.0.1 - - [01/Mar/2019 15:21:17] \"GET / HTTP/1.1\" 200 18369\n",
      "127.0.0.1 - - [01/Mar/2019 15:21:17] \"GET /favicon.ico HTTP/1.1\" 200 18369\n"
     ]
    }
   ],
   "source": [
    "from display_entities import serve_ents\n",
    "serve_ents(doc2 , matches, options = options)"
   ]
  },
  {
   "cell_type": "code",
   "execution_count": 218,
   "metadata": {},
   "outputs": [
    {
     "data": {
      "text/plain": [
       "[('JUR', 5, 6),\n",
       " ('JUR', 9, 10),\n",
       " ('JUR', 15, 16),\n",
       " ('JUR', 17, 18),\n",
       " ('JUR', 33, 36),\n",
       " ('JUR', 39, 40),\n",
       " ('JUR', 44, 45),\n",
       " ('JUR', 48, 51),\n",
       " ('JUR', 61, 62),\n",
       " ('JUR', 66, 67),\n",
       " ('JUR', 68, 70),\n",
       " ('JUR', 78, 79),\n",
       " ('JUR', 85, 88),\n",
       " ('JUR', 103, 105),\n",
       " ('JUR', 116, 119),\n",
       " ('JUR', 123, 126),\n",
       " ('JUR', 129, 130),\n",
       " ('JUR', 138, 139),\n",
       " ('JUR', 141, 142),\n",
       " ('JUR', 148, 149),\n",
       " ('JUR', 150, 151),\n",
       " ('JUR', 155, 159),\n",
       " ('JUR', 161, 162),\n",
       " ('JUR', 171, 172),\n",
       " ('JUR', 182, 184),\n",
       " ('JUR', 193, 194),\n",
       " ('JUR', 195, 197),\n",
       " ('JUR', 198, 200),\n",
       " ('JUR', 209, 211),\n",
       " ('JUR', 229, 231),\n",
       " ('JUR', 234, 235),\n",
       " ('JUR', 239, 241),\n",
       " ('JUR', 252, 255),\n",
       " ('JUR', 257, 258),\n",
       " ('JUR', 262, 263),\n",
       " ('JUR', 267, 269),\n",
       " ('JUR', 274, 275),\n",
       " ('JUR', 283, 285),\n",
       " ('JUR', 292, 293),\n",
       " ('JUR', 300, 303),\n",
       " ('JUR', 306, 307),\n",
       " ('JUR', 308, 309)]"
      ]
     },
     "execution_count": 218,
     "metadata": {},
     "output_type": "execute_result"
    }
   ],
   "source": [
    "(matches)"
   ]
  },
  {
   "cell_type": "code",
   "execution_count": 224,
   "metadata": {
    "collapsed": true
   },
   "outputs": [],
   "source": [
    "entity_range = []\n",
    "for label, start, end in matches:\n",
    "    entity_range.append(set(range(start, end)))"
   ]
  },
  {
   "cell_type": "code",
   "execution_count": 225,
   "metadata": {
    "scrolled": true
   },
   "outputs": [
    {
     "data": {
      "text/plain": [
       "[{5},\n",
       " {9},\n",
       " {15},\n",
       " {17},\n",
       " {33, 34, 35},\n",
       " {35},\n",
       " {39},\n",
       " {44},\n",
       " {48, 49, 50},\n",
       " {50},\n",
       " {61},\n",
       " {66},\n",
       " {68},\n",
       " {68, 69},\n",
       " {78},\n",
       " {85, 86, 87},\n",
       " {87},\n",
       " {87, 88},\n",
       " {103, 104},\n",
       " {104},\n",
       " {116},\n",
       " {116, 117, 118},\n",
       " {123},\n",
       " {123, 124, 125},\n",
       " {129},\n",
       " {138},\n",
       " {141},\n",
       " {148},\n",
       " {150},\n",
       " {155},\n",
       " {155, 156, 157, 158},\n",
       " {155, 156, 157, 158},\n",
       " {161},\n",
       " {171},\n",
       " {182, 183},\n",
       " {183},\n",
       " {193},\n",
       " {195, 196},\n",
       " {196},\n",
       " {198, 199},\n",
       " {199},\n",
       " {209, 210},\n",
       " {210},\n",
       " {229},\n",
       " {229, 230},\n",
       " {234},\n",
       " {239, 240},\n",
       " {239, 240},\n",
       " {240},\n",
       " {252},\n",
       " {252, 253, 254},\n",
       " {257},\n",
       " {262},\n",
       " {267},\n",
       " {267, 268},\n",
       " {274},\n",
       " {283, 284},\n",
       " {292},\n",
       " {300},\n",
       " {300, 301, 302},\n",
       " {301, 302},\n",
       " {306},\n",
       " {308}]"
      ]
     },
     "execution_count": 225,
     "metadata": {},
     "output_type": "execute_result"
    }
   ],
   "source": [
    "entity_range"
   ]
  },
  {
   "cell_type": "code",
   "execution_count": 226,
   "metadata": {
    "collapsed": true
   },
   "outputs": [],
   "source": [
    "        entity_range = [{61},\n",
    "                        {66},\n",
    "                        {68},\n",
    "                        {68, 69},\n",
    "                        {78},\n",
    "                        {85, 86, 87},\n",
    "                        {87},\n",
    "                        {87, 88}]"
   ]
  },
  {
   "cell_type": "code",
   "execution_count": 233,
   "metadata": {},
   "outputs": [
    {
     "data": {
      "text/plain": [
       "True"
      ]
     },
     "execution_count": 233,
     "metadata": {},
     "output_type": "execute_result"
    }
   ],
   "source": [
    "check_overlap(6, entity_range)[0] in range(len(entity_range))"
   ]
  },
  {
   "cell_type": "code",
   "execution_count": 232,
   "metadata": {},
   "outputs": [
    {
     "data": {
      "text/plain": [
       "5"
      ]
     },
     "execution_count": 232,
     "metadata": {},
     "output_type": "execute_result"
    }
   ],
   "source": [
    "check_overlap(6, entity_range)[0] in range(entity_range)"
   ]
  },
  {
   "cell_type": "code",
   "execution_count": 234,
   "metadata": {},
   "outputs": [
    {
     "data": {
      "text/plain": [
       "[('JUR', 5, 6),\n",
       " ('JUR', 9, 10),\n",
       " ('JUR', 15, 16),\n",
       " ('JUR', 17, 18),\n",
       " ('JUR', 33, 36),\n",
       " ('JUR', 35, 36),\n",
       " ('JUR', 39, 40),\n",
       " ('JUR', 44, 45),\n",
       " ('JUR', 48, 51),\n",
       " ('JUR', 50, 51),\n",
       " ('JUR', 61, 62),\n",
       " ('JUR', 66, 67),\n",
       " ('JUR', 68, 69),\n",
       " ('JUR', 68, 70),\n",
       " ('JUR', 78, 79),\n",
       " ('JUR', 85, 88),\n",
       " ('JUR', 87, 88),\n",
       " ('JUR', 87, 89),\n",
       " ('JUR', 103, 105),\n",
       " ('JUR', 104, 105),\n",
       " ('JUR', 116, 117),\n",
       " ('JUR', 116, 119),\n",
       " ('JUR', 123, 124),\n",
       " ('JUR', 123, 126),\n",
       " ('JUR', 129, 130),\n",
       " ('JUR', 138, 139),\n",
       " ('JUR', 141, 142),\n",
       " ('JUR', 148, 149),\n",
       " ('JUR', 150, 151),\n",
       " ('JUR', 155, 156),\n",
       " ('JUR', 155, 159),\n",
       " ('JUR', 155, 159),\n",
       " ('JUR', 161, 162),\n",
       " ('JUR', 171, 172),\n",
       " ('JUR', 182, 184),\n",
       " ('JUR', 183, 184),\n",
       " ('JUR', 193, 194),\n",
       " ('JUR', 195, 197),\n",
       " ('JUR', 196, 197),\n",
       " ('JUR', 198, 200),\n",
       " ('JUR', 199, 200),\n",
       " ('JUR', 209, 211),\n",
       " ('JUR', 210, 211),\n",
       " ('JUR', 229, 230),\n",
       " ('JUR', 229, 231),\n",
       " ('JUR', 234, 235),\n",
       " ('JUR', 239, 241),\n",
       " ('JUR', 239, 241),\n",
       " ('JUR', 240, 241),\n",
       " ('JUR', 252, 253),\n",
       " ('JUR', 252, 255),\n",
       " ('JUR', 257, 258),\n",
       " ('JUR', 262, 263),\n",
       " ('JUR', 267, 268),\n",
       " ('JUR', 267, 269),\n",
       " ('JUR', 274, 275),\n",
       " ('JUR', 283, 285),\n",
       " ('JUR', 292, 293),\n",
       " ('JUR', 300, 301),\n",
       " ('JUR', 300, 303),\n",
       " ('JUR', 301, 303),\n",
       " ('JUR', 306, 307),\n",
       " ('JUR', 308, 309)]"
      ]
     },
     "execution_count": 234,
     "metadata": {},
     "output_type": "execute_result"
    }
   ],
   "source": [
    "matches"
   ]
  },
  {
   "cell_type": "code",
   "execution_count": 236,
   "metadata": {},
   "outputs": [],
   "source": [
    "from juritagger import JuriMatcher\n",
    "\n",
    "opts = {\"dico_files\":\n",
    "        [\"./dicos/merged.txt\", \"./dicos/cluster_merged_classif.json\"],\n",
    "        \"spacy_model\" : \"fr_core_news_md\"\n",
    "        \n",
    "        }\n",
    "jm = JuriMatcher(**opts)"
   ]
  },
  {
   "cell_type": "code",
   "execution_count": 240,
   "metadata": {},
   "outputs": [
    {
     "data": {
      "text/plain": [
       "[('CHOMAGE', 1, 2),\n",
       " ('PERS', 3, 4),\n",
       " ('PERS', 3, 4),\n",
       " ('CONGE', 19, 22),\n",
       " ('CONGE', 21, 22),\n",
       " ('PERS', 26, 27),\n",
       " ('PERS', 26, 27)]"
      ]
     },
     "execution_count": 240,
     "metadata": {},
     "output_type": "execute_result"
    }
   ],
   "source": [
    "text = \"\"\"L'indemnisation du salarié dépend du nombre de jours de fermeture\n",
    "de l'entreprise et du nombre de jours de congés JUR acquis par le salarié.\"\"\"\n",
    "\n",
    "matches, doc = jm.tag_doc(text, mode = \"class\")\n",
    "matches"
   ]
  },
  {
   "cell_type": "code",
   "execution_count": null,
   "metadata": {
    "collapsed": true
   },
   "outputs": [],
   "source": []
  }
 ],
 "metadata": {
  "kernelspec": {
   "display_name": "Python [conda env:anaconda3]",
   "language": "python",
   "name": "conda-env-anaconda3-py"
  },
  "language_info": {
   "codemirror_mode": {
    "name": "ipython",
    "version": 3
   },
   "file_extension": ".py",
   "mimetype": "text/x-python",
   "name": "python",
   "nbconvert_exporter": "python",
   "pygments_lexer": "ipython3",
   "version": "3.6.3"
  }
 },
 "nbformat": 4,
 "nbformat_minor": 2
}
