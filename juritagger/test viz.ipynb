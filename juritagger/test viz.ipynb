{
 "cells": [
  {
   "cell_type": "code",
   "execution_count": 118,
   "metadata": {},
   "outputs": [
    {
     "name": "stdout",
     "output_type": "stream",
     "text": [
      "The autoreload extension is already loaded. To reload it, use:\n",
      "  %reload_ext autoreload\n"
     ]
    }
   ],
   "source": [
    "from juritagger import JuriMatcher\n",
    "%load_ext autoreload\n",
    "%autoreload 2\n",
    "jm = JuriMatcher([\"./dicos/merged.txt\", \"./dicos/cluster_merged_classif.json\"], \"fr_core_news_md\")"
   ]
  },
  {
   "cell_type": "code",
   "execution_count": 119,
   "metadata": {},
   "outputs": [],
   "source": [
    "\n",
    "fiche_text = \"\"\"Fermeture de l'entreprise pour congés: comment le salarié est-il indemnisé?\n",
    "L'indemnisation du salarié dépend du nombre de jours de fermeture\n",
    "de l'entreprise et du nombre de jours de congés acquis par le salarié.\n",
    "Si le salarié possède suffisamment de jours de congés par rapport au\n",
    "nombre de jours de fermeture de congés, il perçoit l'indemnité de congés payés dans les conditions habituelles. \n",
    "Si le salarié n'a pas acquis suffisamment de jours de congés payés pour être indemnisé\n",
    "durant l'intégralité de la fermeture de l'entreprise, Pôle emploi peut verser, sous conditions,\n",
    "une aide financière pour congés non payés. Cette aide pour congés non payés est versée au salarié qui percevait,\n",
    "avant sa reprise d'emploi, l'allocation d'aide au retour à l'emploi (ARE)  ou l'allocation de solidarité spécifique\n",
    "(ASS). Si c'était le cas, le salarié doit formuler une demande d'aide auprès de l'agence Pôle emploi\n",
    "dont il dépendait en tant que demandeur d'emploi. Pôle emploi pole_emploi Pôle emploi \n",
    "Le montant de l'aide est calculé par Pôle emploi qui tient compte du nombre de jours de fermeture\n",
    "de l'entreprise; net des droits à congés payés acquis par le salarié au titre de son nouvel emploi.\n",
    " À défaut d'avoir droit à l'aide pour congés non payés, le salarié peut demander à son employeur de bénéficier \n",
    "de congés payés par anticipation, mais l'employeur n'est pas obligé d'accepter (sauf accord collectif ou\n",
    "usages contraires). Le salarié peut également demander à bénéficier d'un congé sans solde ou d'une indemnité d'activité partielle,\n",
    "en cas d'intempérie à caractère exceptionnel notamment.\"\"\"\n",
    "\n",
    "matches, doc = jm.tag_doc(fiche_text, mode = \"class\")"
   ]
  },
  {
   "cell_type": "code",
   "execution_count": 120,
   "metadata": {
    "collapsed": true
   },
   "outputs": [],
   "source": [
    "class MyDoc:\n",
    "    def __init__(self, doc):\n",
    "        self.doc = doc\n",
    "        \n",
    "    def __getitem__(self, item):\n",
    "        return self.doc[item].text\n",
    "    \n",
    "    def _split(self, s=None):\n",
    "        return self.doc.text.split(s)\n",
    "    \n",
    "    def __add__(self, o):\n",
    "        return self.doc.text + o\n",
    "    \n",
    "    def __radd__(self, o):\n",
    "        return o + self.doc.text"
   ]
  },
  {
   "cell_type": "code",
   "execution_count": 121,
   "metadata": {
    "collapsed": true
   },
   "outputs": [],
   "source": [
    "doc2 = MyDoc(doc)"
   ]
  },
  {
   "cell_type": "code",
   "execution_count": 122,
   "metadata": {},
   "outputs": [],
   "source": [
    "def check_overlap(i, entity_range):\n",
    "    v = []\n",
    "    entity = entity_range[i]\n",
    "    for j, a in enumerate(entity_range):\n",
    "        if j != i and entity.intersection(a) != set():\n",
    "            v.append(j)\n",
    "    return v\n",
    "\n",
    "def keep_longer_match(matches):\n",
    "    entity_range = []\n",
    "    for label, start, end in matches:\n",
    "        entity_range.append(set(range(start, end)))\n",
    "\n",
    "    new_matches = []\n",
    "    for i in range(len(entity_range)):\n",
    "        overlaps = check_overlap(i, entity_range)\n",
    "        longer = [len(entity_range[over]) > len(entity_range[i]) for over in overlaps]\n",
    "        equal = [len(entity_range[over]) == len(entity_range[i]) for over in overlaps]\n",
    "        if any(longer):\n",
    "            continue\n",
    "            \n",
    "        if any(equal):\n",
    "            if matches[i] not in new_matches:\n",
    "                new_matches.append(matches[i])\n",
    "        \n",
    "        else:\n",
    "            new_matches.append(matches[i])\n",
    "    return new_matches"
   ]
  },
  {
   "cell_type": "code",
   "execution_count": 123,
   "metadata": {
    "collapsed": true
   },
   "outputs": [],
   "source": [
    "matches = keep_longer_match(matches)"
   ]
  },
  {
   "cell_type": "code",
   "execution_count": 132,
   "metadata": {},
   "outputs": [],
   "source": [
    "from display_entities import COLOR_LIST\n",
    "options = {\n",
    "    \"ents\": list(jm.entity_types),\n",
    "    \"colors\" : {entity:COLOR_LIST[i] for i, entity in enumerate(jm.entity_types)}\n",
    "}"
   ]
  },
  {
   "cell_type": "code",
   "execution_count": 133,
   "metadata": {},
   "outputs": [
    {
     "name": "stdout",
     "output_type": "stream",
     "text": [
      "\n",
      "\u001b[93m    Serving on port 5000...\u001b[0m\n",
      "    Using the 'ent' visualizer\n",
      "\n"
     ]
    },
    {
     "name": "stderr",
     "output_type": "stream",
     "text": [
      "127.0.0.1 - - [01/Mar/2019 11:37:11] \"GET / HTTP/1.1\" 200 18369\n",
      "127.0.0.1 - - [01/Mar/2019 11:37:11] \"GET /favicon.ico HTTP/1.1\" 200 18369\n"
     ]
    },
    {
     "name": "stdout",
     "output_type": "stream",
     "text": [
      "\n",
      "    Shutting down server on port 5000.\n",
      "\n"
     ]
    }
   ],
   "source": [
    "from display_entities import serve_ents\n",
    "serve_ents(doc2 , matches, options = options)"
   ]
  },
  {
   "cell_type": "code",
   "execution_count": 126,
   "metadata": {},
   "outputs": [
    {
     "data": {
      "text/plain": [
       "['CONTRAT',\n",
       " 'TEMPS',\n",
       " 'CHOMAGE',\n",
       " 'AUTRE',\n",
       " 'REMU',\n",
       " 'RUPTURE',\n",
       " 'ACCRO',\n",
       " 'ENTREPRISE',\n",
       " 'CONGE',\n",
       " 'TRAVAIL',\n",
       " 'RETRAITE',\n",
       " 'EMPLOI',\n",
       " 'MEDICAL',\n",
       " 'PERS']"
      ]
     },
     "execution_count": 126,
     "metadata": {},
     "output_type": "execute_result"
    }
   ],
   "source": [
    "list(jm.entity_types)"
   ]
  },
  {
   "cell_type": "code",
   "execution_count": null,
   "metadata": {
    "collapsed": true
   },
   "outputs": [],
   "source": []
  }
 ],
 "metadata": {
  "kernelspec": {
   "display_name": "Python [conda env:anaconda3]",
   "language": "python",
   "name": "conda-env-anaconda3-py"
  },
  "language_info": {
   "codemirror_mode": {
    "name": "ipython",
    "version": 3
   },
   "file_extension": ".py",
   "mimetype": "text/x-python",
   "name": "python",
   "nbconvert_exporter": "python",
   "pygments_lexer": "ipython3",
   "version": "3.6.3"
  }
 },
 "nbformat": 4,
 "nbformat_minor": 2
}
